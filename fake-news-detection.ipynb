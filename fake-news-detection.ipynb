{
 "cells": [
  {
   "cell_type": "code",
   "execution_count": 1,
   "id": "b21037fb",
   "metadata": {
    "_cell_guid": "b1076dfc-b9ad-4769-8c92-a6c4dae69d19",
    "_uuid": "8f2839f25d086af736a60e9eeb907d3b93b6e0e5",
    "execution": {
     "iopub.execute_input": "2023-08-07T19:50:01.226246Z",
     "iopub.status.busy": "2023-08-07T19:50:01.225898Z",
     "iopub.status.idle": "2023-08-07T19:50:07.213688Z",
     "shell.execute_reply": "2023-08-07T19:50:07.211252Z"
    },
    "papermill": {
     "duration": 5.997644,
     "end_time": "2023-08-07T19:50:07.216175",
     "exception": false,
     "start_time": "2023-08-07T19:50:01.218531",
     "status": "completed"
    },
    "tags": []
   },
   "outputs": [
    {
     "name": "stdout",
     "output_type": "stream",
     "text": [
      "Loading: /kaggle/input/fake-news-classification/WELFake_Dataset.csv\n",
      "Shape: (72134, 4)\n",
      "Columns: ['Unnamed: 0', 'title', 'text', 'label']\n",
      "   Unnamed: 0                                              title  \\\n",
      "0           0  LAW ENFORCEMENT ON HIGH ALERT Following Threat...   \n",
      "1           1                                                NaN   \n",
      "2           2  UNBELIEVABLE! OBAMA’S ATTORNEY GENERAL SAYS MO...   \n",
      "3           3  Bobby Jindal, raised Hindu, uses story of Chri...   \n",
      "4           4  SATAN 2: Russia unvelis an image of its terrif...   \n",
      "\n",
      "                                                text  label  \n",
      "0  No comment is expected from Barack Obama Membe...      1  \n",
      "1     Did they post their votes for Hillary already?      1  \n",
      "2   Now, most of the demonstrators gathered last ...      1  \n",
      "3  A dozen politically active pastors came here f...      0  \n",
      "4  The RS-28 Sarmat missile, dubbed Satan 2, will...      1  \n",
      "\n",
      "\n"
     ]
    }
   ],
   "source": [
    "#IMPORTING DATA IN df!!!\n",
    "import numpy as np\n",
    "import pandas as pd\n",
    "import os\n",
    "\n",
    "# Specify the directory where the CSV files are located\n",
    "data_directory = '/kaggle/input/fake-news-classification'\n",
    "\n",
    "# List all files under the input directory\n",
    "for dirname, _, filenames in os.walk(data_directory):\n",
    "    for filename in filenames:\n",
    "        if filename.endswith('.csv'):  # Load only CSV files\n",
    "            file_path = os.path.join(dirname, filename)\n",
    "            print(\"Loading:\", file_path)\n",
    "            df = pd.read_csv(file_path)  # Load the CSV file into a DataFrame\n",
    "            print(\"Shape:\", df.shape)    # Print the shape of the DataFrame\n",
    "            print(\"Columns:\", df.columns.tolist())  # Print the column names\n",
    "            print(df.head())  # Display the first few rows of the DataFrame\n",
    "            print(\"\\n\")\n"
   ]
  },
  {
   "cell_type": "code",
   "execution_count": 2,
   "id": "35e20926",
   "metadata": {
    "execution": {
     "iopub.execute_input": "2023-08-07T19:50:07.230725Z",
     "iopub.status.busy": "2023-08-07T19:50:07.229910Z",
     "iopub.status.idle": "2023-08-07T19:50:07.245191Z",
     "shell.execute_reply": "2023-08-07T19:50:07.244139Z"
    },
    "papermill": {
     "duration": 0.025139,
     "end_time": "2023-08-07T19:50:07.247959",
     "exception": false,
     "start_time": "2023-08-07T19:50:07.222820",
     "status": "completed"
    },
    "tags": []
   },
   "outputs": [
    {
     "data": {
      "text/html": [
       "<div>\n",
       "<style scoped>\n",
       "    .dataframe tbody tr th:only-of-type {\n",
       "        vertical-align: middle;\n",
       "    }\n",
       "\n",
       "    .dataframe tbody tr th {\n",
       "        vertical-align: top;\n",
       "    }\n",
       "\n",
       "    .dataframe thead th {\n",
       "        text-align: right;\n",
       "    }\n",
       "</style>\n",
       "<table border=\"1\" class=\"dataframe\">\n",
       "  <thead>\n",
       "    <tr style=\"text-align: right;\">\n",
       "      <th></th>\n",
       "      <th>Unnamed: 0</th>\n",
       "      <th>title</th>\n",
       "      <th>text</th>\n",
       "      <th>label</th>\n",
       "    </tr>\n",
       "  </thead>\n",
       "  <tbody>\n",
       "    <tr>\n",
       "      <th>0</th>\n",
       "      <td>0</td>\n",
       "      <td>LAW ENFORCEMENT ON HIGH ALERT Following Threat...</td>\n",
       "      <td>No comment is expected from Barack Obama Membe...</td>\n",
       "      <td>1</td>\n",
       "    </tr>\n",
       "    <tr>\n",
       "      <th>1</th>\n",
       "      <td>1</td>\n",
       "      <td>NaN</td>\n",
       "      <td>Did they post their votes for Hillary already?</td>\n",
       "      <td>1</td>\n",
       "    </tr>\n",
       "    <tr>\n",
       "      <th>2</th>\n",
       "      <td>2</td>\n",
       "      <td>UNBELIEVABLE! OBAMA’S ATTORNEY GENERAL SAYS MO...</td>\n",
       "      <td>Now, most of the demonstrators gathered last ...</td>\n",
       "      <td>1</td>\n",
       "    </tr>\n",
       "    <tr>\n",
       "      <th>3</th>\n",
       "      <td>3</td>\n",
       "      <td>Bobby Jindal, raised Hindu, uses story of Chri...</td>\n",
       "      <td>A dozen politically active pastors came here f...</td>\n",
       "      <td>0</td>\n",
       "    </tr>\n",
       "    <tr>\n",
       "      <th>4</th>\n",
       "      <td>4</td>\n",
       "      <td>SATAN 2: Russia unvelis an image of its terrif...</td>\n",
       "      <td>The RS-28 Sarmat missile, dubbed Satan 2, will...</td>\n",
       "      <td>1</td>\n",
       "    </tr>\n",
       "  </tbody>\n",
       "</table>\n",
       "</div>"
      ],
      "text/plain": [
       "   Unnamed: 0                                              title  \\\n",
       "0           0  LAW ENFORCEMENT ON HIGH ALERT Following Threat...   \n",
       "1           1                                                NaN   \n",
       "2           2  UNBELIEVABLE! OBAMA’S ATTORNEY GENERAL SAYS MO...   \n",
       "3           3  Bobby Jindal, raised Hindu, uses story of Chri...   \n",
       "4           4  SATAN 2: Russia unvelis an image of its terrif...   \n",
       "\n",
       "                                                text  label  \n",
       "0  No comment is expected from Barack Obama Membe...      1  \n",
       "1     Did they post their votes for Hillary already?      1  \n",
       "2   Now, most of the demonstrators gathered last ...      1  \n",
       "3  A dozen politically active pastors came here f...      0  \n",
       "4  The RS-28 Sarmat missile, dubbed Satan 2, will...      1  "
      ]
     },
     "execution_count": 2,
     "metadata": {},
     "output_type": "execute_result"
    }
   ],
   "source": [
    "df.head()"
   ]
  },
  {
   "cell_type": "code",
   "execution_count": 3,
   "id": "032612db",
   "metadata": {
    "execution": {
     "iopub.execute_input": "2023-08-07T19:50:07.260619Z",
     "iopub.status.busy": "2023-08-07T19:50:07.260344Z",
     "iopub.status.idle": "2023-08-07T19:50:09.035917Z",
     "shell.execute_reply": "2023-08-07T19:50:09.033884Z"
    },
    "papermill": {
     "duration": 1.785292,
     "end_time": "2023-08-07T19:50:09.039090",
     "exception": false,
     "start_time": "2023-08-07T19:50:07.253798",
     "status": "completed"
    },
    "tags": []
   },
   "outputs": [
    {
     "name": "stderr",
     "output_type": "stream",
     "text": [
      "/opt/conda/lib/python3.10/site-packages/scipy/__init__.py:146: UserWarning: A NumPy version >=1.16.5 and <1.23.0 is required for this version of SciPy (detected version 1.23.5\n",
      "  warnings.warn(f\"A NumPy version >={np_minversion} and <{np_maxversion}\"\n"
     ]
    }
   ],
   "source": [
    "import numpy as np\n",
    "import pandas as pd\n",
    "import re\n",
    "from nltk.corpus import stopwords\n",
    "from nltk.stem.porter import PorterStemmer\n",
    "from sklearn.feature_extraction.text import TfidfVectorizer\n",
    "from sklearn.model_selection import train_test_split\n",
    "from sklearn.linear_model import LogisticRegression\n",
    "from sklearn.metrics import accuracy_score"
   ]
  },
  {
   "cell_type": "code",
   "execution_count": 4,
   "id": "580f4711",
   "metadata": {
    "execution": {
     "iopub.execute_input": "2023-08-07T19:50:09.057765Z",
     "iopub.status.busy": "2023-08-07T19:50:09.057401Z",
     "iopub.status.idle": "2023-08-07T19:50:09.192754Z",
     "shell.execute_reply": "2023-08-07T19:50:09.191893Z"
    },
    "papermill": {
     "duration": 0.147318,
     "end_time": "2023-08-07T19:50:09.195482",
     "exception": false,
     "start_time": "2023-08-07T19:50:09.048164",
     "status": "completed"
    },
    "tags": []
   },
   "outputs": [
    {
     "name": "stdout",
     "output_type": "stream",
     "text": [
      "[nltk_data] Downloading package stopwords to /usr/share/nltk_data...\n",
      "[nltk_data]   Package stopwords is already up-to-date!\n"
     ]
    },
    {
     "data": {
      "text/plain": [
       "True"
      ]
     },
     "execution_count": 4,
     "metadata": {},
     "output_type": "execute_result"
    }
   ],
   "source": [
    "import nltk\n",
    "nltk.download('stopwords')"
   ]
  },
  {
   "cell_type": "code",
   "execution_count": 5,
   "id": "c8c23e2e",
   "metadata": {
    "execution": {
     "iopub.execute_input": "2023-08-07T19:50:09.214436Z",
     "iopub.status.busy": "2023-08-07T19:50:09.214104Z",
     "iopub.status.idle": "2023-08-07T19:50:09.223652Z",
     "shell.execute_reply": "2023-08-07T19:50:09.222838Z"
    },
    "papermill": {
     "duration": 0.022941,
     "end_time": "2023-08-07T19:50:09.227488",
     "exception": false,
     "start_time": "2023-08-07T19:50:09.204547",
     "status": "completed"
    },
    "tags": []
   },
   "outputs": [
    {
     "name": "stdout",
     "output_type": "stream",
     "text": [
      "['i', 'me', 'my', 'myself', 'we', 'our', 'ours', 'ourselves', 'you', \"you're\", \"you've\", \"you'll\", \"you'd\", 'your', 'yours', 'yourself', 'yourselves', 'he', 'him', 'his', 'himself', 'she', \"she's\", 'her', 'hers', 'herself', 'it', \"it's\", 'its', 'itself', 'they', 'them', 'their', 'theirs', 'themselves', 'what', 'which', 'who', 'whom', 'this', 'that', \"that'll\", 'these', 'those', 'am', 'is', 'are', 'was', 'were', 'be', 'been', 'being', 'have', 'has', 'had', 'having', 'do', 'does', 'did', 'doing', 'a', 'an', 'the', 'and', 'but', 'if', 'or', 'because', 'as', 'until', 'while', 'of', 'at', 'by', 'for', 'with', 'about', 'against', 'between', 'into', 'through', 'during', 'before', 'after', 'above', 'below', 'to', 'from', 'up', 'down', 'in', 'out', 'on', 'off', 'over', 'under', 'again', 'further', 'then', 'once', 'here', 'there', 'when', 'where', 'why', 'how', 'all', 'any', 'both', 'each', 'few', 'more', 'most', 'other', 'some', 'such', 'no', 'nor', 'not', 'only', 'own', 'same', 'so', 'than', 'too', 'very', 's', 't', 'can', 'will', 'just', 'don', \"don't\", 'should', \"should've\", 'now', 'd', 'll', 'm', 'o', 're', 've', 'y', 'ain', 'aren', \"aren't\", 'couldn', \"couldn't\", 'didn', \"didn't\", 'doesn', \"doesn't\", 'hadn', \"hadn't\", 'hasn', \"hasn't\", 'haven', \"haven't\", 'isn', \"isn't\", 'ma', 'mightn', \"mightn't\", 'mustn', \"mustn't\", 'needn', \"needn't\", 'shan', \"shan't\", 'shouldn', \"shouldn't\", 'wasn', \"wasn't\", 'weren', \"weren't\", 'won', \"won't\", 'wouldn', \"wouldn't\"]\n"
     ]
    }
   ],
   "source": [
    "# printing the stopwords in English\n",
    "print(stopwords.words('english'))"
   ]
  },
  {
   "cell_type": "code",
   "execution_count": 6,
   "id": "e369e908",
   "metadata": {
    "execution": {
     "iopub.execute_input": "2023-08-07T19:50:09.245866Z",
     "iopub.status.busy": "2023-08-07T19:50:09.245535Z",
     "iopub.status.idle": "2023-08-07T19:50:09.251388Z",
     "shell.execute_reply": "2023-08-07T19:50:09.250546Z"
    },
    "papermill": {
     "duration": 0.020585,
     "end_time": "2023-08-07T19:50:09.256762",
     "exception": false,
     "start_time": "2023-08-07T19:50:09.236177",
     "status": "completed"
    },
    "tags": []
   },
   "outputs": [
    {
     "data": {
      "text/plain": [
       "(72134, 4)"
      ]
     },
     "execution_count": 6,
     "metadata": {},
     "output_type": "execute_result"
    }
   ],
   "source": [
    "df.shape"
   ]
  },
  {
   "cell_type": "code",
   "execution_count": 7,
   "id": "42f9af84",
   "metadata": {
    "execution": {
     "iopub.execute_input": "2023-08-07T19:50:09.275364Z",
     "iopub.status.busy": "2023-08-07T19:50:09.275064Z",
     "iopub.status.idle": "2023-08-07T19:50:09.362368Z",
     "shell.execute_reply": "2023-08-07T19:50:09.361424Z"
    },
    "papermill": {
     "duration": 0.099753,
     "end_time": "2023-08-07T19:50:09.365182",
     "exception": false,
     "start_time": "2023-08-07T19:50:09.265429",
     "status": "completed"
    },
    "tags": []
   },
   "outputs": [
    {
     "data": {
      "text/plain": [
       "Unnamed: 0      0\n",
       "title         558\n",
       "text           39\n",
       "label           0\n",
       "dtype: int64"
      ]
     },
     "execution_count": 7,
     "metadata": {},
     "output_type": "execute_result"
    }
   ],
   "source": [
    "df.isnull().sum()"
   ]
  },
  {
   "cell_type": "code",
   "execution_count": 8,
   "id": "ddc297ef",
   "metadata": {
    "execution": {
     "iopub.execute_input": "2023-08-07T19:50:09.386750Z",
     "iopub.status.busy": "2023-08-07T19:50:09.386387Z",
     "iopub.status.idle": "2023-08-07T19:50:09.476650Z",
     "shell.execute_reply": "2023-08-07T19:50:09.475631Z"
    },
    "papermill": {
     "duration": 0.104411,
     "end_time": "2023-08-07T19:50:09.479895",
     "exception": false,
     "start_time": "2023-08-07T19:50:09.375484",
     "status": "completed"
    },
    "tags": []
   },
   "outputs": [],
   "source": [
    "df=df.fillna('')"
   ]
  },
  {
   "cell_type": "markdown",
   "id": "33529f9d",
   "metadata": {
    "papermill": {
     "duration": 0.011085,
     "end_time": "2023-08-07T19:50:09.503212",
     "exception": false,
     "start_time": "2023-08-07T19:50:09.492127",
     "status": "completed"
    },
    "tags": []
   },
   "source": [
    "**Stemming:**\n",
    "\n",
    "*Stemming is the process of reducing a word to its Root word*\n",
    "*example: actor, actress, acting --> act*"
   ]
  },
  {
   "cell_type": "code",
   "execution_count": 9,
   "id": "f8e44c75",
   "metadata": {
    "execution": {
     "iopub.execute_input": "2023-08-07T19:50:09.530182Z",
     "iopub.status.busy": "2023-08-07T19:50:09.529467Z",
     "iopub.status.idle": "2023-08-07T19:50:09.535965Z",
     "shell.execute_reply": "2023-08-07T19:50:09.535018Z"
    },
    "papermill": {
     "duration": 0.021799,
     "end_time": "2023-08-07T19:50:09.539122",
     "exception": false,
     "start_time": "2023-08-07T19:50:09.517323",
     "status": "completed"
    },
    "tags": []
   },
   "outputs": [],
   "source": [
    "port_stem = PorterStemmer()   #To remove ing, able like additional words!"
   ]
  },
  {
   "cell_type": "code",
   "execution_count": 10,
   "id": "30eaab83",
   "metadata": {
    "execution": {
     "iopub.execute_input": "2023-08-07T19:50:09.560984Z",
     "iopub.status.busy": "2023-08-07T19:50:09.560584Z",
     "iopub.status.idle": "2023-08-07T19:50:09.569633Z",
     "shell.execute_reply": "2023-08-07T19:50:09.568474Z"
    },
    "papermill": {
     "duration": 0.023109,
     "end_time": "2023-08-07T19:50:09.572552",
     "exception": false,
     "start_time": "2023-08-07T19:50:09.549443",
     "status": "completed"
    },
    "tags": []
   },
   "outputs": [],
   "source": [
    "def stemming(content):\n",
    "    stemmed_content = re.sub('[^a-zA-Z]',' ',content)\n",
    "    stemmed_content = stemmed_content.lower()\n",
    "    stemmed_content = stemmed_content.split()\n",
    "    stemmed_content = [port_stem.stem(word) for word in stemmed_content if not word in stopwords.words('english')]\n",
    "    stemmed_content = ' '.join(stemmed_content)\n",
    "    return stemmed_content"
   ]
  },
  {
   "cell_type": "code",
   "execution_count": 11,
   "id": "c7fe2c3b",
   "metadata": {
    "execution": {
     "iopub.execute_input": "2023-08-07T19:50:09.595112Z",
     "iopub.status.busy": "2023-08-07T19:50:09.594742Z",
     "iopub.status.idle": "2023-08-07T19:52:25.381964Z",
     "shell.execute_reply": "2023-08-07T19:52:25.380972Z"
    },
    "papermill": {
     "duration": 135.801286,
     "end_time": "2023-08-07T19:52:25.384607",
     "exception": false,
     "start_time": "2023-08-07T19:50:09.583321",
     "status": "completed"
    },
    "tags": []
   },
   "outputs": [],
   "source": [
    "# df['content']=df['text']+' '+df['title']\n",
    "df['title'] = df['title'].apply(stemming)"
   ]
  },
  {
   "cell_type": "code",
   "execution_count": 12,
   "id": "89075830",
   "metadata": {
    "execution": {
     "iopub.execute_input": "2023-08-07T19:52:25.399091Z",
     "iopub.status.busy": "2023-08-07T19:52:25.398754Z",
     "iopub.status.idle": "2023-08-07T19:52:25.403548Z",
     "shell.execute_reply": "2023-08-07T19:52:25.402518Z"
    },
    "papermill": {
     "duration": 0.014711,
     "end_time": "2023-08-07T19:52:25.406005",
     "exception": false,
     "start_time": "2023-08-07T19:52:25.391294",
     "status": "completed"
    },
    "tags": []
   },
   "outputs": [],
   "source": [
    "x = df['title'].values\n",
    "y = df['label'].values"
   ]
  },
  {
   "cell_type": "code",
   "execution_count": 13,
   "id": "bba8a143",
   "metadata": {
    "execution": {
     "iopub.execute_input": "2023-08-07T19:52:25.419921Z",
     "iopub.status.busy": "2023-08-07T19:52:25.419627Z",
     "iopub.status.idle": "2023-08-07T19:52:25.431556Z",
     "shell.execute_reply": "2023-08-07T19:52:25.430637Z"
    },
    "papermill": {
     "duration": 0.021308,
     "end_time": "2023-08-07T19:52:25.433649",
     "exception": false,
     "start_time": "2023-08-07T19:52:25.412341",
     "status": "completed"
    },
    "tags": []
   },
   "outputs": [],
   "source": [
    "from sklearn.pipeline import Pipeline\n",
    "pipeline = Pipeline([\n",
    "    ('tfidf', TfidfVectorizer()),\n",
    "    ('model', LogisticRegression())\n",
    "])"
   ]
  },
  {
   "cell_type": "code",
   "execution_count": 14,
   "id": "21c2630a",
   "metadata": {
    "execution": {
     "iopub.execute_input": "2023-08-07T19:52:25.448444Z",
     "iopub.status.busy": "2023-08-07T19:52:25.447525Z",
     "iopub.status.idle": "2023-08-07T19:52:25.488740Z",
     "shell.execute_reply": "2023-08-07T19:52:25.487827Z"
    },
    "papermill": {
     "duration": 0.05101,
     "end_time": "2023-08-07T19:52:25.491111",
     "exception": false,
     "start_time": "2023-08-07T19:52:25.440101",
     "status": "completed"
    },
    "tags": []
   },
   "outputs": [],
   "source": [
    "x_train, x_test, y_train, y_test = train_test_split(x, y, test_size = 0.2, stratify=y, random_state=2)"
   ]
  },
  {
   "cell_type": "code",
   "execution_count": 15,
   "id": "23adc408",
   "metadata": {
    "execution": {
     "iopub.execute_input": "2023-08-07T19:52:25.505156Z",
     "iopub.status.busy": "2023-08-07T19:52:25.504888Z",
     "iopub.status.idle": "2023-08-07T19:52:27.258630Z",
     "shell.execute_reply": "2023-08-07T19:52:27.257100Z"
    },
    "papermill": {
     "duration": 1.764874,
     "end_time": "2023-08-07T19:52:27.262378",
     "exception": false,
     "start_time": "2023-08-07T19:52:25.497504",
     "status": "completed"
    },
    "tags": []
   },
   "outputs": [
    {
     "data": {
      "text/html": [
       "<style>#sk-container-id-1 {color: black;background-color: white;}#sk-container-id-1 pre{padding: 0;}#sk-container-id-1 div.sk-toggleable {background-color: white;}#sk-container-id-1 label.sk-toggleable__label {cursor: pointer;display: block;width: 100%;margin-bottom: 0;padding: 0.3em;box-sizing: border-box;text-align: center;}#sk-container-id-1 label.sk-toggleable__label-arrow:before {content: \"▸\";float: left;margin-right: 0.25em;color: #696969;}#sk-container-id-1 label.sk-toggleable__label-arrow:hover:before {color: black;}#sk-container-id-1 div.sk-estimator:hover label.sk-toggleable__label-arrow:before {color: black;}#sk-container-id-1 div.sk-toggleable__content {max-height: 0;max-width: 0;overflow: hidden;text-align: left;background-color: #f0f8ff;}#sk-container-id-1 div.sk-toggleable__content pre {margin: 0.2em;color: black;border-radius: 0.25em;background-color: #f0f8ff;}#sk-container-id-1 input.sk-toggleable__control:checked~div.sk-toggleable__content {max-height: 200px;max-width: 100%;overflow: auto;}#sk-container-id-1 input.sk-toggleable__control:checked~label.sk-toggleable__label-arrow:before {content: \"▾\";}#sk-container-id-1 div.sk-estimator input.sk-toggleable__control:checked~label.sk-toggleable__label {background-color: #d4ebff;}#sk-container-id-1 div.sk-label input.sk-toggleable__control:checked~label.sk-toggleable__label {background-color: #d4ebff;}#sk-container-id-1 input.sk-hidden--visually {border: 0;clip: rect(1px 1px 1px 1px);clip: rect(1px, 1px, 1px, 1px);height: 1px;margin: -1px;overflow: hidden;padding: 0;position: absolute;width: 1px;}#sk-container-id-1 div.sk-estimator {font-family: monospace;background-color: #f0f8ff;border: 1px dotted black;border-radius: 0.25em;box-sizing: border-box;margin-bottom: 0.5em;}#sk-container-id-1 div.sk-estimator:hover {background-color: #d4ebff;}#sk-container-id-1 div.sk-parallel-item::after {content: \"\";width: 100%;border-bottom: 1px solid gray;flex-grow: 1;}#sk-container-id-1 div.sk-label:hover label.sk-toggleable__label {background-color: #d4ebff;}#sk-container-id-1 div.sk-serial::before {content: \"\";position: absolute;border-left: 1px solid gray;box-sizing: border-box;top: 0;bottom: 0;left: 50%;z-index: 0;}#sk-container-id-1 div.sk-serial {display: flex;flex-direction: column;align-items: center;background-color: white;padding-right: 0.2em;padding-left: 0.2em;position: relative;}#sk-container-id-1 div.sk-item {position: relative;z-index: 1;}#sk-container-id-1 div.sk-parallel {display: flex;align-items: stretch;justify-content: center;background-color: white;position: relative;}#sk-container-id-1 div.sk-item::before, #sk-container-id-1 div.sk-parallel-item::before {content: \"\";position: absolute;border-left: 1px solid gray;box-sizing: border-box;top: 0;bottom: 0;left: 50%;z-index: -1;}#sk-container-id-1 div.sk-parallel-item {display: flex;flex-direction: column;z-index: 1;position: relative;background-color: white;}#sk-container-id-1 div.sk-parallel-item:first-child::after {align-self: flex-end;width: 50%;}#sk-container-id-1 div.sk-parallel-item:last-child::after {align-self: flex-start;width: 50%;}#sk-container-id-1 div.sk-parallel-item:only-child::after {width: 0;}#sk-container-id-1 div.sk-dashed-wrapped {border: 1px dashed gray;margin: 0 0.4em 0.5em 0.4em;box-sizing: border-box;padding-bottom: 0.4em;background-color: white;}#sk-container-id-1 div.sk-label label {font-family: monospace;font-weight: bold;display: inline-block;line-height: 1.2em;}#sk-container-id-1 div.sk-label-container {text-align: center;}#sk-container-id-1 div.sk-container {/* jupyter's `normalize.less` sets `[hidden] { display: none; }` but bootstrap.min.css set `[hidden] { display: none !important; }` so we also need the `!important` here to be able to override the default hidden behavior on the sphinx rendered scikit-learn.org. See: https://github.com/scikit-learn/scikit-learn/issues/21755 */display: inline-block !important;position: relative;}#sk-container-id-1 div.sk-text-repr-fallback {display: none;}</style><div id=\"sk-container-id-1\" class=\"sk-top-container\"><div class=\"sk-text-repr-fallback\"><pre>Pipeline(steps=[(&#x27;tfidf&#x27;, TfidfVectorizer()), (&#x27;model&#x27;, LogisticRegression())])</pre><b>In a Jupyter environment, please rerun this cell to show the HTML representation or trust the notebook. <br />On GitHub, the HTML representation is unable to render, please try loading this page with nbviewer.org.</b></div><div class=\"sk-container\" hidden><div class=\"sk-item sk-dashed-wrapped\"><div class=\"sk-label-container\"><div class=\"sk-label sk-toggleable\"><input class=\"sk-toggleable__control sk-hidden--visually\" id=\"sk-estimator-id-1\" type=\"checkbox\" ><label for=\"sk-estimator-id-1\" class=\"sk-toggleable__label sk-toggleable__label-arrow\">Pipeline</label><div class=\"sk-toggleable__content\"><pre>Pipeline(steps=[(&#x27;tfidf&#x27;, TfidfVectorizer()), (&#x27;model&#x27;, LogisticRegression())])</pre></div></div></div><div class=\"sk-serial\"><div class=\"sk-item\"><div class=\"sk-estimator sk-toggleable\"><input class=\"sk-toggleable__control sk-hidden--visually\" id=\"sk-estimator-id-2\" type=\"checkbox\" ><label for=\"sk-estimator-id-2\" class=\"sk-toggleable__label sk-toggleable__label-arrow\">TfidfVectorizer</label><div class=\"sk-toggleable__content\"><pre>TfidfVectorizer()</pre></div></div></div><div class=\"sk-item\"><div class=\"sk-estimator sk-toggleable\"><input class=\"sk-toggleable__control sk-hidden--visually\" id=\"sk-estimator-id-3\" type=\"checkbox\" ><label for=\"sk-estimator-id-3\" class=\"sk-toggleable__label sk-toggleable__label-arrow\">LogisticRegression</label><div class=\"sk-toggleable__content\"><pre>LogisticRegression()</pre></div></div></div></div></div></div></div>"
      ],
      "text/plain": [
       "Pipeline(steps=[('tfidf', TfidfVectorizer()), ('model', LogisticRegression())])"
      ]
     },
     "execution_count": 15,
     "metadata": {},
     "output_type": "execute_result"
    }
   ],
   "source": [
    "pipeline.fit(x_train, y_train)"
   ]
  },
  {
   "cell_type": "code",
   "execution_count": 16,
   "id": "2089c536",
   "metadata": {
    "execution": {
     "iopub.execute_input": "2023-08-07T19:52:27.323743Z",
     "iopub.status.busy": "2023-08-07T19:52:27.323204Z",
     "iopub.status.idle": "2023-08-07T19:52:27.563711Z",
     "shell.execute_reply": "2023-08-07T19:52:27.562728Z"
    },
    "papermill": {
     "duration": 0.27406,
     "end_time": "2023-08-07T19:52:27.565806",
     "exception": false,
     "start_time": "2023-08-07T19:52:27.291746",
     "status": "completed"
    },
    "tags": []
   },
   "outputs": [
    {
     "data": {
      "text/plain": [
       "0.9009496083731892"
      ]
     },
     "execution_count": 16,
     "metadata": {},
     "output_type": "execute_result"
    }
   ],
   "source": [
    "pipeline.score(x_test,y_test)"
   ]
  },
  {
   "cell_type": "code",
   "execution_count": 17,
   "id": "11f3227e",
   "metadata": {
    "execution": {
     "iopub.execute_input": "2023-08-07T19:52:27.580782Z",
     "iopub.status.busy": "2023-08-07T19:52:27.580511Z",
     "iopub.status.idle": "2023-08-07T19:52:27.589508Z",
     "shell.execute_reply": "2023-08-07T19:52:27.588660Z"
    },
    "papermill": {
     "duration": 0.018935,
     "end_time": "2023-08-07T19:52:27.591493",
     "exception": false,
     "start_time": "2023-08-07T19:52:27.572558",
     "status": "completed"
    },
    "tags": []
   },
   "outputs": [],
   "source": [
    "import pickle\n",
    "\n",
    "# Save the pipeline to a pickle file\n",
    "with open(\"pipeline_model.pkl\", \"wb\") as file:\n",
    "    pickle.dump(pipeline, file)\n"
   ]
  },
  {
   "cell_type": "code",
   "execution_count": null,
   "id": "d684e168",
   "metadata": {
    "papermill": {
     "duration": 0.006286,
     "end_time": "2023-08-07T19:52:27.604408",
     "exception": false,
     "start_time": "2023-08-07T19:52:27.598122",
     "status": "completed"
    },
    "tags": []
   },
   "outputs": [],
   "source": []
  }
 ],
 "metadata": {
  "kernelspec": {
   "display_name": "Python 3",
   "language": "python",
   "name": "python3"
  },
  "language_info": {
   "codemirror_mode": {
    "name": "ipython",
    "version": 3
   },
   "file_extension": ".py",
   "mimetype": "text/x-python",
   "name": "python",
   "nbconvert_exporter": "python",
   "pygments_lexer": "ipython3",
   "version": "3.10.12"
  },
  "papermill": {
   "default_parameters": {},
   "duration": 157.870621,
   "end_time": "2023-08-07T19:52:28.431600",
   "environment_variables": {},
   "exception": null,
   "input_path": "__notebook__.ipynb",
   "output_path": "__notebook__.ipynb",
   "parameters": {},
   "start_time": "2023-08-07T19:49:50.560979",
   "version": "2.4.0"
  }
 },
 "nbformat": 4,
 "nbformat_minor": 5
}
